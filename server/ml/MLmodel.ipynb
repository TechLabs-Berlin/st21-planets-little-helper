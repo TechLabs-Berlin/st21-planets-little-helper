{
 "cells": [
  {
   "cell_type": "code",
   "execution_count": 2,
   "metadata": {
    "scrolled": true
   },
   "outputs": [
    {
     "name": "stdout",
     "output_type": "stream",
     "text": [
      "Requirement already satisfied: rake_nltk in c:\\users\\benutzer 1\\anaconda3\\lib\\site-packages (1.0.4)\n",
      "Requirement already satisfied: nltk in c:\\users\\benutzer 1\\anaconda3\\lib\\site-packages (from rake_nltk) (3.5)\n",
      "Requirement already satisfied: regex in c:\\users\\benutzer 1\\anaconda3\\lib\\site-packages (from nltk->rake_nltk) (2020.10.15)\n",
      "Requirement already satisfied: joblib in c:\\users\\benutzer 1\\anaconda3\\lib\\site-packages (from nltk->rake_nltk) (0.17.0)\n",
      "Requirement already satisfied: click in c:\\users\\benutzer 1\\anaconda3\\lib\\site-packages (from nltk->rake_nltk) (7.1.2)\n",
      "Requirement already satisfied: tqdm in c:\\users\\benutzer 1\\anaconda3\\lib\\site-packages (from nltk->rake_nltk) (4.50.2)\n"
     ]
    }
   ],
   "source": [
    "!pip install rake_nltk"
   ]
  },
  {
   "cell_type": "code",
   "execution_count": 6,
   "metadata": {},
   "outputs": [
    {
     "data": {
      "text/html": [
       "<div>\n",
       "<style scoped>\n",
       "    .dataframe tbody tr th:only-of-type {\n",
       "        vertical-align: middle;\n",
       "    }\n",
       "\n",
       "    .dataframe tbody tr th {\n",
       "        vertical-align: top;\n",
       "    }\n",
       "\n",
       "    .dataframe thead th {\n",
       "        text-align: right;\n",
       "    }\n",
       "</style>\n",
       "<table border=\"1\" class=\"dataframe\">\n",
       "  <thead>\n",
       "    <tr style=\"text-align: right;\">\n",
       "      <th></th>\n",
       "      <th>0</th>\n",
       "      <th>_id</th>\n",
       "      <th>title</th>\n",
       "      <th>description</th>\n",
       "      <th>challenge</th>\n",
       "      <th>category</th>\n",
       "    </tr>\n",
       "  </thead>\n",
       "  <tbody>\n",
       "    <tr>\n",
       "      <th>0</th>\n",
       "      <td>1</td>\n",
       "      <td>60b54873f81c532bd894292b</td>\n",
       "      <td>Fast fashion</td>\n",
       "      <td>Rejecting fast fashion could prevent an estima...</td>\n",
       "      <td>This week you will reflect on your shopping ha...</td>\n",
       "      <td>Recycling</td>\n",
       "    </tr>\n",
       "    <tr>\n",
       "      <th>1</th>\n",
       "      <td>2</td>\n",
       "      <td>60b54873f81c532bd8942929</td>\n",
       "      <td>Home energy</td>\n",
       "      <td>With household energy accounting for around 30...</td>\n",
       "      <td>During this week you should pay extra attentio...</td>\n",
       "      <td>Energy</td>\n",
       "    </tr>\n",
       "    <tr>\n",
       "      <th>2</th>\n",
       "      <td>3</td>\n",
       "      <td>60b54873f81c532bd8942920</td>\n",
       "      <td>Eat less meat and dairy</td>\n",
       "      <td>Avoiding meat and dairy products is one of the...</td>\n",
       "      <td>For the next week you are going to eat meat an...</td>\n",
       "      <td>Food</td>\n",
       "    </tr>\n",
       "    <tr>\n",
       "      <th>3</th>\n",
       "      <td>4</td>\n",
       "      <td>60b54873f81c532bd8942923</td>\n",
       "      <td>Conscious nutrition</td>\n",
       "      <td>It is important to be mindful of the water tha...</td>\n",
       "      <td>Respecting your budget, try to maximize the pe...</td>\n",
       "      <td>Food</td>\n",
       "    </tr>\n",
       "    <tr>\n",
       "      <th>4</th>\n",
       "      <td>5</td>\n",
       "      <td>60b54873f81c532bd8942924</td>\n",
       "      <td>Raw</td>\n",
       "      <td>Not all foods should be eaten raw, but many ve...</td>\n",
       "      <td>This week you should eat 3 meals with a 75% or...</td>\n",
       "      <td>Food</td>\n",
       "    </tr>\n",
       "  </tbody>\n",
       "</table>\n",
       "</div>"
      ],
      "text/plain": [
       "   0                       _id                    title  \\\n",
       "0  1  60b54873f81c532bd894292b             Fast fashion   \n",
       "1  2  60b54873f81c532bd8942929              Home energy   \n",
       "2  3  60b54873f81c532bd8942920  Eat less meat and dairy   \n",
       "3  4  60b54873f81c532bd8942923      Conscious nutrition   \n",
       "4  5  60b54873f81c532bd8942924                      Raw   \n",
       "\n",
       "                                         description  \\\n",
       "0  Rejecting fast fashion could prevent an estima...   \n",
       "1  With household energy accounting for around 30...   \n",
       "2  Avoiding meat and dairy products is one of the...   \n",
       "3  It is important to be mindful of the water tha...   \n",
       "4  Not all foods should be eaten raw, but many ve...   \n",
       "\n",
       "                                           challenge   category  \n",
       "0  This week you will reflect on your shopping ha...  Recycling  \n",
       "1  During this week you should pay extra attentio...     Energy  \n",
       "2  For the next week you are going to eat meat an...       Food  \n",
       "3  Respecting your budget, try to maximize the pe...       Food  \n",
       "4  This week you should eat 3 meals with a 75% or...       Food  "
      ]
     },
     "execution_count": 6,
     "metadata": {},
     "output_type": "execute_result"
    }
   ],
   "source": [
    "import pandas as pd\n",
    "from rake_nltk import Rake\n",
    "import numpy as np\n",
    "from sklearn.metrics.pairwise import cosine_similarity\n",
    "from sklearn.feature_extraction.text import CountVectorizer\n",
    "\n",
    "pd.set_option('display.max_columns', 100)\n",
    "df = pd.read_csv('challenge_data2.csv')\n",
    "df.head()"
   ]
  },
  {
   "cell_type": "code",
   "execution_count": 7,
   "metadata": {},
   "outputs": [
    {
     "data": {
      "text/html": [
       "<div>\n",
       "<style scoped>\n",
       "    .dataframe tbody tr th:only-of-type {\n",
       "        vertical-align: middle;\n",
       "    }\n",
       "\n",
       "    .dataframe tbody tr th {\n",
       "        vertical-align: top;\n",
       "    }\n",
       "\n",
       "    .dataframe thead th {\n",
       "        text-align: right;\n",
       "    }\n",
       "</style>\n",
       "<table border=\"1\" class=\"dataframe\">\n",
       "  <thead>\n",
       "    <tr style=\"text-align: right;\">\n",
       "      <th></th>\n",
       "      <th>title</th>\n",
       "      <th>challenge</th>\n",
       "      <th>category</th>\n",
       "    </tr>\n",
       "  </thead>\n",
       "  <tbody>\n",
       "    <tr>\n",
       "      <th>0</th>\n",
       "      <td>Fast fashion</td>\n",
       "      <td>This week you will reflect on your shopping ha...</td>\n",
       "      <td>Recycling</td>\n",
       "    </tr>\n",
       "    <tr>\n",
       "      <th>1</th>\n",
       "      <td>Home energy</td>\n",
       "      <td>During this week you should pay extra attentio...</td>\n",
       "      <td>Energy</td>\n",
       "    </tr>\n",
       "    <tr>\n",
       "      <th>2</th>\n",
       "      <td>Eat less meat and dairy</td>\n",
       "      <td>For the next week you are going to eat meat an...</td>\n",
       "      <td>Food</td>\n",
       "    </tr>\n",
       "    <tr>\n",
       "      <th>3</th>\n",
       "      <td>Conscious nutrition</td>\n",
       "      <td>Respecting your budget, try to maximize the pe...</td>\n",
       "      <td>Food</td>\n",
       "    </tr>\n",
       "    <tr>\n",
       "      <th>4</th>\n",
       "      <td>Raw</td>\n",
       "      <td>This week you should eat 3 meals with a 75% or...</td>\n",
       "      <td>Food</td>\n",
       "    </tr>\n",
       "  </tbody>\n",
       "</table>\n",
       "</div>"
      ],
      "text/plain": [
       "                     title                                          challenge  \\\n",
       "0             Fast fashion  This week you will reflect on your shopping ha...   \n",
       "1              Home energy  During this week you should pay extra attentio...   \n",
       "2  Eat less meat and dairy  For the next week you are going to eat meat an...   \n",
       "3      Conscious nutrition  Respecting your budget, try to maximize the pe...   \n",
       "4                      Raw  This week you should eat 3 meals with a 75% or...   \n",
       "\n",
       "    category  \n",
       "0  Recycling  \n",
       "1     Energy  \n",
       "2       Food  \n",
       "3       Food  \n",
       "4       Food  "
      ]
     },
     "execution_count": 7,
     "metadata": {},
     "output_type": "execute_result"
    }
   ],
   "source": [
    "df = df[['title', 'challenge','category']]\n",
    "df.head()"
   ]
  },
  {
   "cell_type": "code",
   "execution_count": 8,
   "metadata": {},
   "outputs": [
    {
     "data": {
      "text/html": [
       "<div>\n",
       "<style scoped>\n",
       "    .dataframe tbody tr th:only-of-type {\n",
       "        vertical-align: middle;\n",
       "    }\n",
       "\n",
       "    .dataframe tbody tr th {\n",
       "        vertical-align: top;\n",
       "    }\n",
       "\n",
       "    .dataframe thead th {\n",
       "        text-align: right;\n",
       "    }\n",
       "</style>\n",
       "<table border=\"1\" class=\"dataframe\">\n",
       "  <thead>\n",
       "    <tr style=\"text-align: right;\">\n",
       "      <th></th>\n",
       "      <th>title</th>\n",
       "      <th>category</th>\n",
       "      <th>Key_words</th>\n",
       "    </tr>\n",
       "  </thead>\n",
       "  <tbody>\n",
       "    <tr>\n",
       "      <th>0</th>\n",
       "      <td>Fast fashion</td>\n",
       "      <td>Recycling</td>\n",
       "      <td>[recycled, fabrics, local, week, new, apparel,...</td>\n",
       "    </tr>\n",
       "    <tr>\n",
       "      <th>1</th>\n",
       "      <td>Home energy</td>\n",
       "      <td>Energy</td>\n",
       "      <td>[leaving, also, includes, week, low, temperatu...</td>\n",
       "    </tr>\n",
       "    <tr>\n",
       "      <th>2</th>\n",
       "      <td>Eat less meat and dairy</td>\n",
       "      <td>Food</td>\n",
       "      <td>[dairy, product, going, eat, meat, next, week,...</td>\n",
       "    </tr>\n",
       "    <tr>\n",
       "      <th>3</th>\n",
       "      <td>Conscious nutrition</td>\n",
       "      <td>Food</td>\n",
       "      <td>[try, organic, groceries, percentage, week, re...</td>\n",
       "    </tr>\n",
       "    <tr>\n",
       "      <th>4</th>\n",
       "      <td>Raw</td>\n",
       "      <td>Food</td>\n",
       "      <td>[week, raw, vegetables, eat, 3, meals, 75]</td>\n",
       "    </tr>\n",
       "  </tbody>\n",
       "</table>\n",
       "</div>"
      ],
      "text/plain": [
       "                     title   category  \\\n",
       "0             Fast fashion  Recycling   \n",
       "1              Home energy     Energy   \n",
       "2  Eat less meat and dairy       Food   \n",
       "3      Conscious nutrition       Food   \n",
       "4                      Raw       Food   \n",
       "\n",
       "                                           Key_words  \n",
       "0  [recycled, fabrics, local, week, new, apparel,...  \n",
       "1  [leaving, also, includes, week, low, temperatu...  \n",
       "2  [dairy, product, going, eat, meat, next, week,...  \n",
       "3  [try, organic, groceries, percentage, week, re...  \n",
       "4         [week, raw, vegetables, eat, 3, meals, 75]  "
      ]
     },
     "execution_count": 8,
     "metadata": {},
     "output_type": "execute_result"
    }
   ],
   "source": [
    "#initialize new column\n",
    "df['Key_words'] = \"\"\n",
    "\n",
    "for index, row in df.iterrows():\n",
    "  challenge = row['challenge']\n",
    "  \n",
    "  #initiate rake\n",
    "  r = Rake()\n",
    "\n",
    "  r.extract_keywords_from_text(challenge)\n",
    "\n",
    "  key_words_dict_scores = r.get_word_degrees()\n",
    "\n",
    "  row['Key_words'] = list(key_words_dict_scores.keys())\n",
    "\n",
    "df.drop(columns = ['challenge'], inplace=True)\n",
    "df.head()"
   ]
  },
  {
   "cell_type": "code",
   "execution_count": 9,
   "metadata": {},
   "outputs": [
    {
     "data": {
      "text/html": [
       "<div>\n",
       "<style scoped>\n",
       "    .dataframe tbody tr th:only-of-type {\n",
       "        vertical-align: middle;\n",
       "    }\n",
       "\n",
       "    .dataframe tbody tr th {\n",
       "        vertical-align: top;\n",
       "    }\n",
       "\n",
       "    .dataframe thead th {\n",
       "        text-align: right;\n",
       "    }\n",
       "</style>\n",
       "<table border=\"1\" class=\"dataframe\">\n",
       "  <thead>\n",
       "    <tr style=\"text-align: right;\">\n",
       "      <th></th>\n",
       "      <th>category</th>\n",
       "      <th>Key_words</th>\n",
       "    </tr>\n",
       "    <tr>\n",
       "      <th>title</th>\n",
       "      <th></th>\n",
       "      <th></th>\n",
       "    </tr>\n",
       "  </thead>\n",
       "  <tbody>\n",
       "    <tr>\n",
       "      <th>Fast fashion</th>\n",
       "      <td>Recycling</td>\n",
       "      <td>[recycled, fabrics, local, week, new, apparel,...</td>\n",
       "    </tr>\n",
       "    <tr>\n",
       "      <th>Home energy</th>\n",
       "      <td>Energy</td>\n",
       "      <td>[leaving, also, includes, week, low, temperatu...</td>\n",
       "    </tr>\n",
       "    <tr>\n",
       "      <th>Eat less meat and dairy</th>\n",
       "      <td>Food</td>\n",
       "      <td>[dairy, product, going, eat, meat, next, week,...</td>\n",
       "    </tr>\n",
       "    <tr>\n",
       "      <th>Conscious nutrition</th>\n",
       "      <td>Food</td>\n",
       "      <td>[try, organic, groceries, percentage, week, re...</td>\n",
       "    </tr>\n",
       "    <tr>\n",
       "      <th>Raw</th>\n",
       "      <td>Food</td>\n",
       "      <td>[week, raw, vegetables, eat, 3, meals, 75]</td>\n",
       "    </tr>\n",
       "  </tbody>\n",
       "</table>\n",
       "</div>"
      ],
      "text/plain": [
       "                          category  \\\n",
       "title                                \n",
       "Fast fashion             Recycling   \n",
       "Home energy                 Energy   \n",
       "Eat less meat and dairy       Food   \n",
       "Conscious nutrition           Food   \n",
       "Raw                           Food   \n",
       "\n",
       "                                                                 Key_words  \n",
       "title                                                                       \n",
       "Fast fashion             [recycled, fabrics, local, week, new, apparel,...  \n",
       "Home energy              [leaving, also, includes, week, low, temperatu...  \n",
       "Eat less meat and dairy  [dairy, product, going, eat, meat, next, week,...  \n",
       "Conscious nutrition      [try, organic, groceries, percentage, week, re...  \n",
       "Raw                             [week, raw, vegetables, eat, 3, meals, 75]  "
      ]
     },
     "execution_count": 9,
     "metadata": {},
     "output_type": "execute_result"
    }
   ],
   "source": [
    "df.set_index('title', inplace=True)\n",
    "df.head()"
   ]
  },
  {
   "cell_type": "code",
   "execution_count": 10,
   "metadata": {},
   "outputs": [],
   "source": [
    "df['bag_of_words'] = ''\n",
    "columns = df.columns\n",
    "for index, row in df.iterrows():\n",
    "  words = ''\n",
    "  for col in columns:\n",
    "    if col != 'category':\n",
    "      words = words + ' '.join(row[col])+ ' '\n",
    "    else:\n",
    "      words = words + row[col]+ ' '\n",
    "  row['bag_of_words'] = words\n",
    "\n",
    "\n",
    "df.drop(columns = [col for col in df.columns if col!= 'bag_of_words'], inplace = True)"
   ]
  },
  {
   "cell_type": "code",
   "execution_count": 11,
   "metadata": {},
   "outputs": [
    {
     "data": {
      "text/html": [
       "<div>\n",
       "<style scoped>\n",
       "    .dataframe tbody tr th:only-of-type {\n",
       "        vertical-align: middle;\n",
       "    }\n",
       "\n",
       "    .dataframe tbody tr th {\n",
       "        vertical-align: top;\n",
       "    }\n",
       "\n",
       "    .dataframe thead th {\n",
       "        text-align: right;\n",
       "    }\n",
       "</style>\n",
       "<table border=\"1\" class=\"dataframe\">\n",
       "  <thead>\n",
       "    <tr style=\"text-align: right;\">\n",
       "      <th></th>\n",
       "      <th>bag_of_words</th>\n",
       "    </tr>\n",
       "    <tr>\n",
       "      <th>title</th>\n",
       "      <th></th>\n",
       "    </tr>\n",
       "  </thead>\n",
       "  <tbody>\n",
       "    <tr>\n",
       "      <th>Fast fashion</th>\n",
       "      <td>Recycling recycled fabrics local week new appa...</td>\n",
       "    </tr>\n",
       "    <tr>\n",
       "      <th>Home energy</th>\n",
       "      <td>Energy leaving also includes week low temperat...</td>\n",
       "    </tr>\n",
       "    <tr>\n",
       "      <th>Eat less meat and dairy</th>\n",
       "      <td>Food dairy product going eat meat next week tw...</td>\n",
       "    </tr>\n",
       "    <tr>\n",
       "      <th>Conscious nutrition</th>\n",
       "      <td>Food try organic groceries percentage week res...</td>\n",
       "    </tr>\n",
       "    <tr>\n",
       "      <th>Raw</th>\n",
       "      <td>Food week raw vegetables eat 3 meals 75</td>\n",
       "    </tr>\n",
       "  </tbody>\n",
       "</table>\n",
       "</div>"
      ],
      "text/plain": [
       "                                                              bag_of_words\n",
       "title                                                                     \n",
       "Fast fashion             Recycling recycled fabrics local week new appa...\n",
       "Home energy              Energy leaving also includes week low temperat...\n",
       "Eat less meat and dairy  Food dairy product going eat meat next week tw...\n",
       "Conscious nutrition      Food try organic groceries percentage week res...\n",
       "Raw                              Food week raw vegetables eat 3 meals 75  "
      ]
     },
     "execution_count": 11,
     "metadata": {},
     "output_type": "execute_result"
    }
   ],
   "source": [
    "df.head()"
   ]
  },
  {
   "cell_type": "code",
   "execution_count": 12,
   "metadata": {},
   "outputs": [
    {
     "data": {
      "text/plain": [
       "0               Fast fashion\n",
       "1                Home energy\n",
       "2    Eat less meat and dairy\n",
       "3        Conscious nutrition\n",
       "4                        Raw\n",
       "Name: title, dtype: object"
      ]
     },
     "execution_count": 12,
     "metadata": {},
     "output_type": "execute_result"
    }
   ],
   "source": [
    "count = CountVectorizer()\n",
    "count_matrix = count.fit_transform(df['bag_of_words'])\n",
    "\n",
    "indices = pd.Series(df.index)\n",
    "indices[:5]\n",
    "#count_matrix"
   ]
  },
  {
   "cell_type": "code",
   "execution_count": 13,
   "metadata": {},
   "outputs": [
    {
     "data": {
      "text/plain": [
       "array([[1.        , 0.08998425, 0.06537205, 0.12403473, 0.07412493,\n",
       "        0.06201737, 0.05913124, 0.13867505, 0.05387725, 0.07161149,\n",
       "        0.12838815, 0.04499213, 0.03846154],\n",
       "       [0.08998425, 1.        , 0.07647191, 0.07254763, 0.086711  ,\n",
       "        0.07254763, 0.13834289, 0.10814761, 0.1260507 , 0.08377078,\n",
       "        0.10012523, 0.05263158, 0.08998425],\n",
       "       [0.06537205, 0.07647191, 1.        , 0.21081851, 0.37796447,\n",
       "        0.31622777, 0.10050378, 0.31426968, 0.04578685, 0.12171612,\n",
       "        0.0727393 , 0.07647191, 0.06537205],\n",
       "       [0.12403473, 0.07254763, 0.21081851, 1.        , 0.23904572,\n",
       "        0.3       , 0.28603878, 0.2236068 , 0.04343722, 0.05773503,\n",
       "        0.13801311, 0.07254763, 0.06201737],\n",
       "       [0.07412493, 0.086711  , 0.37796447, 0.23904572, 1.        ,\n",
       "        0.35856858, 0.11396058, 0.26726124, 0.05191741, 0.06900656,\n",
       "        0.08247861, 0.086711  , 0.07412493],\n",
       "       [0.06201737, 0.07254763, 0.31622777, 0.3       , 0.35856858,\n",
       "        1.        , 0.19069252, 0.2236068 , 0.04343722, 0.23094011,\n",
       "        0.06900656, 0.07254763, 0.12403473],\n",
       "       [0.05913124, 0.13834289, 0.10050378, 0.28603878, 0.11396058,\n",
       "        0.19069252, 1.        , 0.07106691, 0.16566307, 0.05504819,\n",
       "        0.13159034, 0.06917145, 0.05913124],\n",
       "       [0.13867505, 0.10814761, 0.31426968, 0.2236068 , 0.26726124,\n",
       "        0.2236068 , 0.07106691, 1.        , 0.06475239, 0.0860663 ,\n",
       "        0.1028689 , 0.05407381, 0.04622502],\n",
       "       [0.05387725, 0.1260507 , 0.04578685, 0.04343722, 0.05191741,\n",
       "        0.04343722, 0.16566307, 0.06475239, 1.        , 0.07523548,\n",
       "        0.05994906, 0.06302535, 0.10775449],\n",
       "       [0.07161149, 0.08377078, 0.12171612, 0.05773503, 0.06900656,\n",
       "        0.23094011, 0.05504819, 0.0860663 , 0.07523548, 1.        ,\n",
       "        0.11952286, 0.12565617, 0.25064021],\n",
       "       [0.12838815, 0.10012523, 0.0727393 , 0.13801311, 0.08247861,\n",
       "        0.06900656, 0.13159034, 0.1028689 , 0.05994906, 0.11952286,\n",
       "        1.        , 0.05006262, 0.0855921 ],\n",
       "       [0.04499213, 0.05263158, 0.07647191, 0.07254763, 0.086711  ,\n",
       "        0.07254763, 0.06917145, 0.05407381, 0.06302535, 0.12565617,\n",
       "        0.05006262, 1.        , 0.31494489],\n",
       "       [0.03846154, 0.08998425, 0.06537205, 0.06201737, 0.07412493,\n",
       "        0.12403473, 0.05913124, 0.04622502, 0.10775449, 0.25064021,\n",
       "        0.0855921 , 0.31494489, 1.        ]])"
      ]
     },
     "execution_count": 13,
     "metadata": {},
     "output_type": "execute_result"
    }
   ],
   "source": [
    "cosine_sim = cosine_similarity(count_matrix, count_matrix)\n",
    "cosine_sim"
   ]
  },
  {
   "cell_type": "code",
   "execution_count": 14,
   "metadata": {},
   "outputs": [
    {
     "data": {
      "text/plain": [
       "(13, 13)"
      ]
     },
     "execution_count": 14,
     "metadata": {},
     "output_type": "execute_result"
    }
   ],
   "source": [
    "cosine_sim.shape"
   ]
  },
  {
   "cell_type": "code",
   "execution_count": 15,
   "metadata": {},
   "outputs": [],
   "source": [
    "#function that take category or title search as input\n",
    "def recommendations(title, cosine_sim = cosine_sim):\n",
    "\n",
    "  recommended_challenge = []\n",
    "\n",
    "  idx = indices[indices == title].index[0]\n",
    "\n",
    "  score_series = pd.Series(cosine_sim[idx]).sort_values(ascending = False)\n",
    "\n",
    "  top_3_indexes = list(score_series.iloc[1:4].index)\n",
    "\n",
    "  for i in top_3_indexes:\n",
    "    recommended_challenge.append((df.index[i]))\n",
    "\n",
    "  return recommended_challenge"
   ]
  },
  {
   "cell_type": "code",
   "execution_count": 17,
   "metadata": {},
   "outputs": [
    {
     "data": {
      "text/plain": [
       "['Local and seasonal food', 'Single use', 'Conscious nutrition']"
      ]
     },
     "execution_count": 17,
     "metadata": {},
     "output_type": "execute_result"
    }
   ],
   "source": [
    "recommendations('Fast fashion')"
   ]
  },
  {
   "cell_type": "code",
   "execution_count": null,
   "metadata": {},
   "outputs": [],
   "source": []
  }
 ],
 "metadata": {
  "kernelspec": {
   "display_name": "Python 3",
   "language": "python",
   "name": "python3"
  },
  "language_info": {
   "codemirror_mode": {
    "name": "ipython",
    "version": 3
   },
   "file_extension": ".py",
   "mimetype": "text/x-python",
   "name": "python",
   "nbconvert_exporter": "python",
   "pygments_lexer": "ipython3",
   "version": "3.8.5"
  }
 },
 "nbformat": 4,
 "nbformat_minor": 4
}
