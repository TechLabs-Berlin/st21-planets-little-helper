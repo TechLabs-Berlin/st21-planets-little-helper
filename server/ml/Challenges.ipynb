{
 "cells": [
  {
   "cell_type": "code",
   "execution_count": null,
   "metadata": {},
   "outputs": [],
   "source": [
    "import random"
   ]
  },
  {
   "cell_type": "code",
   "execution_count": null,
   "metadata": {},
   "outputs": [],
   "source": [
    "challenges = {\n",
    "    1: \"Fast fashion\",\n",
    "    2: \"Home energy\",\n",
    "    3: \"Eat less meat and dairy\",\n",
    "    4: \"Conscious nutrition\",\n",
    "    5: \"Raw\",\n",
    "    6: \"Reduce your food waste\",\n",
    "    7: \"Bulk/unpackaged\",\n",
    "    8: \"Local and seasonal food\",\n",
    "    9: \"Choose your energy provider wisely\",\n",
    "    10: \"Flights\",\n",
    "    11: \"Single use\",\n",
    "    12: \"Bike and legs\",\n",
    "    13: \"Public transport\",\n",
    "}"
   ]
  },
  {
   "cell_type": "code",
   "execution_count": null,
   "metadata": {},
   "outputs": [],
   "source": [
    "current_rec_challenges = []\n",
    "\n",
    "def recommend(challenge_desc: str) -> int:\n",
    "    '''\n",
    "    :param challenge_desc: description of challenge to which you'd like a recommendation\n",
    "    :param current_challenges: currently assigned challenges\n",
    "    :return: next challenge\n",
    "    '''\n",
    "\n",
    "    # remove the currently assigned challenges from the list of possible recommendations\n",
    "    available_challenges = filter_existing_challenges(current_rec_challenges)\n",
    "\n",
    "    # here I'm getting a random order, but you'll be performing the actual recommendation\n",
    "    shuffled_available_challenges_ids = list(available_challenges.keys())\n",
    "    random.shuffle(shuffled_available_challenges_ids)\n",
    "\n",
    "    return shuffled_available_challenges_ids[0]"
   ]
  },
  {
   "cell_type": "code",
   "execution_count": null,
   "metadata": {},
   "outputs": [],
   "source": []
  }
 ],
 "metadata": {
  "kernelspec": {
   "display_name": "Python 3",
   "language": "python",
   "name": "python3"
  },
  "language_info": {
   "codemirror_mode": {
    "name": "ipython",
    "version": 3
   },
   "file_extension": ".py",
   "mimetype": "text/x-python",
   "name": "python",
   "nbconvert_exporter": "python",
   "pygments_lexer": "ipython3",
   "version": "3.8.5"
  }
 },
 "nbformat": 4,
 "nbformat_minor": 4
}
