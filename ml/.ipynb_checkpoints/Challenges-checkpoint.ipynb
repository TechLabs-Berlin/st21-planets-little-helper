{
 "cells": [
  {
   "cell_type": "code",
   "execution_count": 1,
   "metadata": {},
   "outputs": [],
   "source": [
    "import random"
   ]
  },
  {
   "cell_type": "code",
   "execution_count": 8,
   "metadata": {},
   "outputs": [],
   "source": [
    "challenges = {\n",
    "    1: \"Fast fashion\",\n",
    "    2: \"Home energy\",\n",
    "    3: \"Eat less meat and dairy\",\n",
    "    4: \"Conscious nutrition\",\n",
    "    5: \"Raw\",\n",
    "    6: \"Reduce your food waste\",\n",
    "    7: \"Bulk/unpackaged\",\n",
    "    8: \"Local and seasonal food\",\n",
    "    9: \"Choose your energy provider wisely\",\n",
    "    10: \"Flights\",\n",
    "    11: \"Single use\",\n",
    "    12: \"Bike and legs\",\n",
    "    13: \"Public transport\",\n",
    "}"
   ]
  },
  {
   "cell_type": "code",
   "execution_count": 11,
   "metadata": {},
   "outputs": [],
   "source": [
    "current_rec_challenges = []\n",
    "\n",
    "def co_distance(desc_1: str, desc_2: str) -> float:\n",
    "  distance = random.uniform(1, 10)\n",
    "  print(f\"\\t\\tDistance between '{desc_1}' and '{desc_2}' = {distance}\")\n",
    "  return distance\n",
    "\n",
    "def find_closest_challenge(query_challenge_desc: str, available_challenges: list):\n",
    "  closest = 10000.0\n",
    "  next_challenge_id = -1\n",
    "\n",
    "  for challenge_id, current_challenge_desc in available_challenges.items():\n",
    "    distance = co_distance(query_challenge_desc, current_challenge_desc)\n",
    "    if distance < closest:\n",
    "      closest = distance\n",
    "      next_challenge_id = challenge_id\n",
    "\n",
    "  return next_challenge_id\n",
    "\n",
    "def recommend(challenge_desc: str) -> int:\n",
    "    # remove the currently assigned challenges from the list of possible recommendations\n",
    "    available_challenges = filter_existing_challenges(current_rec_challenges)\n",
    "\n",
    "    print(f\"\\tCurrently recommended challenges: {current_rec_challenges}\")\n",
    "    print(f\"\\tAvailable challenges: {available_challenges.values()}\")\n",
    "\n",
    "    # here I'm getting a random order, but you'll be performing the actual recommendation\n",
    "    #shuffled_available_challenges_ids = list(available_challenges.keys())\n",
    "    #random.shuffle(shuffled_available_challenges_ids)\n",
    "    return find_closest_challenge(challenge_desc, available_challenges)\n"
   ]
  },
  {
   "cell_type": "code",
   "execution_count": 12,
   "metadata": {},
   "outputs": [
    {
     "name": "stdout",
     "output_type": "stream",
     "text": [
      "First challenge: 'Fast fashion'\n",
      "\tCurrently recommended challenges: [1]\n",
      "\tAvailable challenges: dict_values(['Home energy', 'Eat less meat and dairy', 'Conscious nutrition', 'Raw', 'Reduce your food waste', 'Bulk/unpackaged', 'Local and seasonal food', 'Choose your energy provider wisely', 'Flights', 'Single use', 'Bike and legs', 'Public transport'])\n",
      "\t\tDistance between 'Fast fashion' and 'Home energy' = 4.403016280783053\n",
      "\t\tDistance between 'Fast fashion' and 'Eat less meat and dairy' = 1.1976353505366935\n",
      "\t\tDistance between 'Fast fashion' and 'Conscious nutrition' = 5.863259784461855\n",
      "\t\tDistance between 'Fast fashion' and 'Raw' = 9.128152670058265\n",
      "\t\tDistance between 'Fast fashion' and 'Reduce your food waste' = 9.073130737195159\n",
      "\t\tDistance between 'Fast fashion' and 'Bulk/unpackaged' = 7.541110145211054\n",
      "\t\tDistance between 'Fast fashion' and 'Local and seasonal food' = 5.8082221479752985\n",
      "\t\tDistance between 'Fast fashion' and 'Choose your energy provider wisely' = 8.428840642215256\n",
      "\t\tDistance between 'Fast fashion' and 'Flights' = 6.919854832996805\n",
      "\t\tDistance between 'Fast fashion' and 'Single use' = 2.9448793082066977\n",
      "\t\tDistance between 'Fast fashion' and 'Bike and legs' = 7.427420682623758\n",
      "\t\tDistance between 'Fast fashion' and 'Public transport' = 7.520830834457518\n",
      "Next best challenge after 'Fast fashion' is 'Eat less meat and dairy'\n",
      "\tCurrently recommended challenges: [1, 3]\n",
      "\tAvailable challenges: dict_values(['Home energy', 'Conscious nutrition', 'Raw', 'Reduce your food waste', 'Bulk/unpackaged', 'Local and seasonal food', 'Choose your energy provider wisely', 'Flights', 'Single use', 'Bike and legs', 'Public transport'])\n",
      "\t\tDistance between 'Eat less meat and dairy' and 'Home energy' = 8.351620515461466\n",
      "\t\tDistance between 'Eat less meat and dairy' and 'Conscious nutrition' = 2.9460598375358042\n",
      "\t\tDistance between 'Eat less meat and dairy' and 'Raw' = 3.5418620549776394\n",
      "\t\tDistance between 'Eat less meat and dairy' and 'Reduce your food waste' = 2.1498236576891494\n",
      "\t\tDistance between 'Eat less meat and dairy' and 'Bulk/unpackaged' = 9.828045932758291\n",
      "\t\tDistance between 'Eat less meat and dairy' and 'Local and seasonal food' = 2.0829299699927843\n",
      "\t\tDistance between 'Eat less meat and dairy' and 'Choose your energy provider wisely' = 6.2805113606503635\n",
      "\t\tDistance between 'Eat less meat and dairy' and 'Flights' = 9.093381408704378\n",
      "\t\tDistance between 'Eat less meat and dairy' and 'Single use' = 1.5390256740869144\n",
      "\t\tDistance between 'Eat less meat and dairy' and 'Bike and legs' = 8.298190327321365\n",
      "\t\tDistance between 'Eat less meat and dairy' and 'Public transport' = 4.535929068699003\n",
      "Next best challenge after 'Eat less meat and dairy' is 'Single use'\n",
      "\tCurrently recommended challenges: [1, 3, 11]\n",
      "\tAvailable challenges: dict_values(['Home energy', 'Conscious nutrition', 'Raw', 'Reduce your food waste', 'Bulk/unpackaged', 'Local and seasonal food', 'Choose your energy provider wisely', 'Flights', 'Bike and legs', 'Public transport'])\n",
      "\t\tDistance between 'Single use' and 'Home energy' = 4.630352089677011\n",
      "\t\tDistance between 'Single use' and 'Conscious nutrition' = 9.382635127946545\n",
      "\t\tDistance between 'Single use' and 'Raw' = 6.519618206291067\n",
      "\t\tDistance between 'Single use' and 'Reduce your food waste' = 3.2251748825774618\n",
      "\t\tDistance between 'Single use' and 'Bulk/unpackaged' = 1.3336562645019416\n",
      "\t\tDistance between 'Single use' and 'Local and seasonal food' = 4.051343270883933\n",
      "\t\tDistance between 'Single use' and 'Choose your energy provider wisely' = 1.143243324331693\n",
      "\t\tDistance between 'Single use' and 'Flights' = 9.83824378040834\n",
      "\t\tDistance between 'Single use' and 'Bike and legs' = 5.4971646686615685\n",
      "\t\tDistance between 'Single use' and 'Public transport' = 4.994080865206538\n",
      "Next best challenge after 'Single use' is 'Choose your energy provider wisely'\n",
      "\tCurrently recommended challenges: [1, 3, 11, 9]\n",
      "\tAvailable challenges: dict_values(['Home energy', 'Conscious nutrition', 'Raw', 'Reduce your food waste', 'Bulk/unpackaged', 'Local and seasonal food', 'Flights', 'Bike and legs', 'Public transport'])\n",
      "\t\tDistance between 'Choose your energy provider wisely' and 'Home energy' = 1.5318004947380273\n",
      "\t\tDistance between 'Choose your energy provider wisely' and 'Conscious nutrition' = 2.844695105139971\n",
      "\t\tDistance between 'Choose your energy provider wisely' and 'Raw' = 9.525908739272813\n",
      "\t\tDistance between 'Choose your energy provider wisely' and 'Reduce your food waste' = 4.865707537633951\n",
      "\t\tDistance between 'Choose your energy provider wisely' and 'Bulk/unpackaged' = 2.4813946030840035\n",
      "\t\tDistance between 'Choose your energy provider wisely' and 'Local and seasonal food' = 4.273269694561169\n",
      "\t\tDistance between 'Choose your energy provider wisely' and 'Flights' = 8.849893945670095\n",
      "\t\tDistance between 'Choose your energy provider wisely' and 'Bike and legs' = 2.634836097758357\n",
      "\t\tDistance between 'Choose your energy provider wisely' and 'Public transport' = 8.415385545478667\n",
      "Next best challenge after 'Choose your energy provider wisely' is 'Home energy'\n",
      "\tCurrently recommended challenges: [1, 3, 11, 9, 2]\n",
      "\tAvailable challenges: dict_values(['Conscious nutrition', 'Raw', 'Reduce your food waste', 'Bulk/unpackaged', 'Local and seasonal food', 'Flights', 'Bike and legs', 'Public transport'])\n",
      "\t\tDistance between 'Home energy' and 'Conscious nutrition' = 9.135488257779997\n",
      "\t\tDistance between 'Home energy' and 'Raw' = 1.851267746548567\n",
      "\t\tDistance between 'Home energy' and 'Reduce your food waste' = 7.148971267344758\n",
      "\t\tDistance between 'Home energy' and 'Bulk/unpackaged' = 4.293150701140192\n",
      "\t\tDistance between 'Home energy' and 'Local and seasonal food' = 4.340917452796006\n",
      "\t\tDistance between 'Home energy' and 'Flights' = 6.711546749795732\n",
      "\t\tDistance between 'Home energy' and 'Bike and legs' = 8.766826731494502\n",
      "\t\tDistance between 'Home energy' and 'Public transport' = 1.0491947820530991\n",
      "Next best challenge after 'Home energy' is 'Public transport'\n",
      "\tCurrently recommended challenges: [1, 3, 11, 9, 2, 13]\n",
      "\tAvailable challenges: dict_values(['Conscious nutrition', 'Raw', 'Reduce your food waste', 'Bulk/unpackaged', 'Local and seasonal food', 'Flights', 'Bike and legs'])\n",
      "\t\tDistance between 'Public transport' and 'Conscious nutrition' = 8.278044327910807\n",
      "\t\tDistance between 'Public transport' and 'Raw' = 5.058226659203133\n",
      "\t\tDistance between 'Public transport' and 'Reduce your food waste' = 1.9798192575076345\n",
      "\t\tDistance between 'Public transport' and 'Bulk/unpackaged' = 4.716701804148558\n",
      "\t\tDistance between 'Public transport' and 'Local and seasonal food' = 6.3291043363377275\n",
      "\t\tDistance between 'Public transport' and 'Flights' = 3.564254949194112\n",
      "\t\tDistance between 'Public transport' and 'Bike and legs' = 5.964574772374339\n",
      "Next best challenge after 'Public transport' is 'Reduce your food waste'\n",
      "\tCurrently recommended challenges: [1, 3, 11, 9, 2, 13, 6]\n",
      "\tAvailable challenges: dict_values(['Conscious nutrition', 'Raw', 'Bulk/unpackaged', 'Local and seasonal food', 'Flights', 'Bike and legs'])\n",
      "\t\tDistance between 'Reduce your food waste' and 'Conscious nutrition' = 3.1403798377981262\n",
      "\t\tDistance between 'Reduce your food waste' and 'Raw' = 2.042639899678286\n",
      "\t\tDistance between 'Reduce your food waste' and 'Bulk/unpackaged' = 2.82500405637921\n",
      "\t\tDistance between 'Reduce your food waste' and 'Local and seasonal food' = 1.3841511519832226\n",
      "\t\tDistance between 'Reduce your food waste' and 'Flights' = 3.033634165728234\n",
      "\t\tDistance between 'Reduce your food waste' and 'Bike and legs' = 8.205105452368826\n",
      "Next best challenge after 'Reduce your food waste' is 'Local and seasonal food'\n",
      "\tCurrently recommended challenges: [1, 3, 11, 9, 2, 13, 6, 8]\n",
      "\tAvailable challenges: dict_values(['Conscious nutrition', 'Raw', 'Bulk/unpackaged', 'Flights', 'Bike and legs'])\n",
      "\t\tDistance between 'Local and seasonal food' and 'Conscious nutrition' = 2.237987799196093\n",
      "\t\tDistance between 'Local and seasonal food' and 'Raw' = 4.987226913017624\n",
      "\t\tDistance between 'Local and seasonal food' and 'Bulk/unpackaged' = 5.277300040571196\n",
      "\t\tDistance between 'Local and seasonal food' and 'Flights' = 7.903258379455973\n",
      "\t\tDistance between 'Local and seasonal food' and 'Bike and legs' = 8.373814931367669\n",
      "Next best challenge after 'Local and seasonal food' is 'Conscious nutrition'\n",
      "\tCurrently recommended challenges: [1, 3, 11, 9, 2, 13, 6, 8, 4]\n",
      "\tAvailable challenges: dict_values(['Raw', 'Bulk/unpackaged', 'Flights', 'Bike and legs'])\n",
      "\t\tDistance between 'Conscious nutrition' and 'Raw' = 5.588229307511127\n",
      "\t\tDistance between 'Conscious nutrition' and 'Bulk/unpackaged' = 9.110525717896317\n",
      "\t\tDistance between 'Conscious nutrition' and 'Flights' = 3.4415968441984743\n",
      "\t\tDistance between 'Conscious nutrition' and 'Bike and legs' = 6.2461677164097\n",
      "Next best challenge after 'Conscious nutrition' is 'Flights'\n",
      "\tCurrently recommended challenges: [1, 3, 11, 9, 2, 13, 6, 8, 4, 10]\n",
      "\tAvailable challenges: dict_values(['Raw', 'Bulk/unpackaged', 'Bike and legs'])\n",
      "\t\tDistance between 'Flights' and 'Raw' = 6.26179724741648\n",
      "\t\tDistance between 'Flights' and 'Bulk/unpackaged' = 6.347789306766408\n",
      "\t\tDistance between 'Flights' and 'Bike and legs' = 6.901266943463136\n",
      "Next best challenge after 'Flights' is 'Raw'\n",
      "\tCurrently recommended challenges: [1, 3, 11, 9, 2, 13, 6, 8, 4, 10, 5]\n",
      "\tAvailable challenges: dict_values(['Bulk/unpackaged', 'Bike and legs'])\n",
      "\t\tDistance between 'Raw' and 'Bulk/unpackaged' = 1.6211864872183122\n",
      "\t\tDistance between 'Raw' and 'Bike and legs' = 1.2042513924850096\n",
      "Next best challenge after 'Raw' is 'Bike and legs'\n",
      "\tCurrently recommended challenges: [1, 3, 11, 9, 2, 13, 6, 8, 4, 10, 5, 12]\n",
      "\tAvailable challenges: dict_values(['Bulk/unpackaged'])\n",
      "\t\tDistance between 'Bike and legs' and 'Bulk/unpackaged' = 7.15999954542577\n",
      "Next best challenge after 'Bike and legs' is 'Bulk/unpackaged'\n",
      "\n",
      "Final recommendation sequence:\n",
      "\t1 = Fast fashion\n",
      "\t3 = Eat less meat and dairy\n",
      "\t11 = Single use\n",
      "\t9 = Choose your energy provider wisely\n",
      "\t2 = Home energy\n",
      "\t13 = Public transport\n",
      "\t6 = Reduce your food waste\n",
      "\t8 = Local and seasonal food\n",
      "\t4 = Conscious nutrition\n",
      "\t10 = Flights\n",
      "\t5 = Raw\n",
      "\t12 = Bike and legs\n",
      "\t7 = Bulk/unpackaged\n"
     ]
    }
   ],
   "source": [
    "def filter_existing_challenges(current_challenges: list) -> dict:\n",
    "    return {challenge_id: challenge_desc for challenge_id, challenge_desc in challenges.items()\n",
    "            if challenge_id not in current_challenges}\n",
    "\n",
    "if __name__ == \"__main__\":\n",
    "    # start from the first challenge, but could also start from a random one\n",
    "    last_challenge_id = 1\n",
    "    last_challenge_desc = challenges[last_challenge_id]\n",
    "\n",
    "    print(f\"First challenge: '{last_challenge_desc}'\")\n",
    "\n",
    "    # adds the current challenge to the list of recommendations\n",
    "    current_rec_challenges.append(last_challenge_id)\n",
    "\n",
    "    while len(current_rec_challenges) != len(challenges):\n",
    "        # best recommendation after the current challenge\n",
    "        last_challenge_id = recommend(last_challenge_desc)\n",
    "\n",
    "        log_line = f\"Next best challenge after '{last_challenge_desc}' is \"\n",
    "\n",
    "        last_challenge_desc = challenges[last_challenge_id]\n",
    "\n",
    "        log_line = log_line + f\"'{last_challenge_desc}'\"\n",
    "\n",
    "        print(log_line)\n",
    "\n",
    "        # add the newly recommended challenge to the list\n",
    "        current_rec_challenges.append(last_challenge_id)\n",
    "\n",
    "    final_recommendations = {challenge_id: challenges[challenge_id] for challenge_id in current_rec_challenges}\n",
    "\n",
    "    print(\"\\nFinal recommendation sequence:\")\n",
    "    for challenge_id, desc in final_recommendations.items():\n",
    "        print(f\"\\t{challenge_id} = {desc}\")\n"
   ]
  },
  {
   "cell_type": "code",
   "execution_count": 13,
   "metadata": {},
   "outputs": [],
   "source": [
    "#see'the 'final recommendation sequence'. this sequence of number is the one that will be the array output when the backend try to access the endpoint of this function\n",
    "#which is [1,3,11,9,2,13,6,8,4,10,5,12,7]"
   ]
  },
  {
   "cell_type": "code",
   "execution_count": 5,
   "metadata": {},
   "outputs": [
    {
     "data": {
      "text/plain": [
       "{2: 'Home energy',\n",
       " 3: 'Eat less meat and dairy',\n",
       " 4: 'Conscious nutrition',\n",
       " 6: 'Reduce your food waste',\n",
       " 8: 'Local and seasonal food',\n",
       " 9: 'Choose your energy provider wisely',\n",
       " 10: 'Flights',\n",
       " 11: 'Single use',\n",
       " 12: 'Bike and legs',\n",
       " 13: 'Public transport'}"
      ]
     },
     "execution_count": 5,
     "metadata": {},
     "output_type": "execute_result"
    }
   ],
   "source": [
    "filter_existing_challenges([1,5,7])"
   ]
  },
  {
   "cell_type": "code",
   "execution_count": 6,
   "metadata": {},
   "outputs": [
    {
     "name": "stdout",
     "output_type": "stream",
     "text": [
      "\tCurrently recommended challenges: [1, 9, 4, 2, 8, 7, 6, 12, 10, 11, 3, 13, 5]\n",
      "\tAvailable challenges: dict_values([])\n"
     ]
    },
    {
     "data": {
      "text/plain": [
       "-1"
      ]
     },
     "execution_count": 6,
     "metadata": {},
     "output_type": "execute_result"
    }
   ],
   "source": [
    "recommend(\"Raw\")"
   ]
  },
  {
   "cell_type": "code",
   "execution_count": 7,
   "metadata": {},
   "outputs": [
    {
     "data": {
      "text/plain": [
       "{2: 'Home energy',\n",
       " 3: 'Eat less meat and dairy',\n",
       " 4: 'Conscious nutrition',\n",
       " 6: 'Reduce your food waste',\n",
       " 8: 'Local and seasonal food',\n",
       " 9: 'Choose your energy provider wisely',\n",
       " 10: 'Flights',\n",
       " 11: 'Single use',\n",
       " 12: 'Bike and legs',\n",
       " 13: 'Public transport'}"
      ]
     },
     "execution_count": 7,
     "metadata": {},
     "output_type": "execute_result"
    }
   ],
   "source": [
    "bini = [1,5,7]\n",
    "filter_existing_challenges(bini)"
   ]
  },
  {
   "cell_type": "code",
   "execution_count": null,
   "metadata": {},
   "outputs": [],
   "source": []
  },
  {
   "cell_type": "code",
   "execution_count": null,
   "metadata": {},
   "outputs": [],
   "source": []
  }
 ],
 "metadata": {
  "kernelspec": {
   "display_name": "Python 3",
   "language": "python",
   "name": "python3"
  },
  "language_info": {
   "codemirror_mode": {
    "name": "ipython",
    "version": 3
   },
   "file_extension": ".py",
   "mimetype": "text/x-python",
   "name": "python",
   "nbconvert_exporter": "python",
   "pygments_lexer": "ipython3",
   "version": "3.8.5"
  }
 },
 "nbformat": 4,
 "nbformat_minor": 4
}
